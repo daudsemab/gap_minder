{
 "cells": [
  {
   "cell_type": "code",
   "execution_count": 1,
   "metadata": {},
   "outputs": [],
   "source": [
    "import pandas as pd"
   ]
  },
  {
   "cell_type": "code",
   "execution_count": 2,
   "metadata": {
    "scrolled": false
   },
   "outputs": [],
   "source": [
    "data = pd.read_csv('../csv_files/Gapminder.csv')"
   ]
  },
  {
   "cell_type": "code",
   "execution_count": 3,
   "metadata": {},
   "outputs": [],
   "source": [
    "# Removing columns that I don't want to work with to rank countries\n",
    "fine_data = data.drop(columns=['Region-Geo', 'Continent', 'Region', 'Year_cat', 'BodyMassIndex_M', 'BodyMassIndex_F', 'Cellphones', 'CO2Emissions', 'EnergyUsePerPerson', 'Hourlycompensation', 'Incomeshareofpoorest10pct', 'Longtermunemploymentrate', 'Medianage', 'MedicalDoctors', 'Murder', 'Murderedmen', 'Murderedwomen', 'Oilconsumptionperperson', 'Populationgrowth', 'Populationtotal', 'Poverty', 'Ratioofgirlstoboysinprimaryandsecondaryeducation', 'Renewablewater', 'Suicideage15to29', 'Teenfertilityrate', 'TotalGDPUS', 'TotalhealthspendingperpersonUS', 'UrbanpopulationTotal'])"
   ]
  },
  {
   "cell_type": "code",
   "execution_count": 4,
   "metadata": {},
   "outputs": [],
   "source": [
    "# Renaming some names of columns\n",
    "fine_data.rename(columns = {\n",
    "    'AgriculturalLand': 'AgriLand',\n",
    "    'Femalesaged25to54labourforceparticipationrate': 'FemaleParticipation',\n",
    "    'Forestarea': 'ForestArea',\n",
    "    'Governmenthealthspendingperpersontotal': 'HealthSpendPerPerson',\n",
    "    'Literacyrateadulttotal': 'LiteracyRateAdult',\n",
    "    'Literacyrateyouthtotal': 'LIteracyRateYouth',\n",
    "    'Residentialelectricityuseperperson': 'ElectricityPerPerson'\n",
    "}, inplace=True)"
   ]
  },
  {
   "cell_type": "code",
   "execution_count": 5,
   "metadata": {},
   "outputs": [],
   "source": [
    "# Removing spaces from names of countries \n",
    "# because next I'll use these names of countries as variables\n",
    "# variables names must not contain spaces and dashes\n",
    "fine_countries = [country.replace(\" \", \"\") for country in fine_data['Country']]\n",
    "# Removing dash \"-\" from names of countries\n",
    "fine_countries = [country.replace(\"-\", \"\") for country in fine_countries]\n",
    "# Replacing enteries of column \"Country\" with enteries of fine_countries in actual data set\n",
    "fine_data = fine_data.assign(Country=fine_countries)"
   ]
  },
  {
   "cell_type": "markdown",
   "metadata": {},
   "source": [
    "# min"
   ]
  },
  {
   "cell_type": "code",
   "execution_count": 6,
   "metadata": {},
   "outputs": [],
   "source": [
    "def fill_min(column_name, country_name):\n",
    "    '''\n",
    "    This function will take two arguments \"column_name\" and \"country_name\",\n",
    "    then find minimum value in given column of given country and \n",
    "    then replace the NaN value with mimimum value of that column.\n",
    "    \n",
    "    '''\n",
    "    column_n = column_name\n",
    "    country_n = country_name\n",
    "    # keyword global() will convert the next argument string value to variable\n",
    "    column = globals()[country_n][column_name] \n",
    "    column = column.fillna(column.min())\n",
    "    globals()[country_n][column_n] = column\n",
    "\n",
    "\n",
    "def fill_mean(column_name, country_name):\n",
    "    '''\n",
    "    This function will take two arguments \"column_name\" and \"country_name\",\n",
    "    then find mean\\(Average) value in given column of given country and \n",
    "    then replace the NaN value with average value of that column.\n",
    "    \n",
    "    '''\n",
    "    column_n = column_name\n",
    "    country_n = country_name\n",
    "    # keyword global() will convert the next argument string value to variable\n",
    "    column = globals()[country_n][column_name]\n",
    "    column = column.fillna(column.mean())\n",
    "    globals()[country_n][column_n] = column\n",
    "\n",
    "\n",
    "def fill_zero(column_name, country_name):\n",
    "    '''\n",
    "    This function will take two arguments \"column_name\" and \"country_name\",\n",
    "    then replace the NaN value with zero v in that column of given country.\n",
    "    \n",
    "    '''\n",
    "    column_n = column_name\n",
    "    country_n = country_name\n",
    "    # keyword global() will convert the next argument string value to variable\n",
    "    column = globals()[country_n][column_name]\n",
    "    column = column.fillna(0)\n",
    "    globals()[country_n][column_n] = column\n",
    "\n"
   ]
  },
  {
   "cell_type": "code",
   "execution_count": 7,
   "metadata": {},
   "outputs": [],
   "source": [
    "countries = fine_data['Country']            # Vector \"Country\" haveing names of countries\n",
    "# Removing redundencies of country names\n",
    "countries = countries.unique()\n",
    "\n",
    "country_wise_data = []                      # Will contain list of DFs, where each DF = one's country data\n",
    "\n",
    "for country in countries:                   # Here \"country\" = 'country name'\n",
    "    # Getting all rows where value of column \"Country\" == 'name of country'\n",
    "    country_data = fine_data.loc[(fine_data['Country'] == country)]\n",
    "    country_wise_data.append(country_data)"
   ]
  },
  {
   "cell_type": "code",
   "execution_count": 8,
   "metadata": {},
   "outputs": [
    {
     "name": "stderr",
     "output_type": "stream",
     "text": [
      "<ipython-input-6-593d8278b328>:28: SettingWithCopyWarning: \n",
      "A value is trying to be set on a copy of a slice from a DataFrame.\n",
      "Try using .loc[row_indexer,col_indexer] = value instead\n",
      "\n",
      "See the caveats in the documentation: https://pandas.pydata.org/pandas-docs/stable/user_guide/indexing.html#returning-a-view-versus-a-copy\n",
      "  globals()[country_n][column_n] = column\n",
      "<ipython-input-6-593d8278b328>:13: SettingWithCopyWarning: \n",
      "A value is trying to be set on a copy of a slice from a DataFrame.\n",
      "Try using .loc[row_indexer,col_indexer] = value instead\n",
      "\n",
      "See the caveats in the documentation: https://pandas.pydata.org/pandas-docs/stable/user_guide/indexing.html#returning-a-view-versus-a-copy\n",
      "  globals()[country_n][column_n] = column\n"
     ]
    }
   ],
   "source": [
    "for country_data in country_wise_data:\n",
    "    country_name = country_data.iloc[0][0]\n",
    "    locals()[country_name] = country_data\n",
    "    for column, value in country_data.iteritems():       \n",
    "        if column == 'AgriLand':\n",
    "            fill_mean(column, country_name)\n",
    "        if column == 'ChildrenPerWoman':\n",
    "            fill_mean(column, country_name)\n",
    "        if column == 'DemocracyScore':\n",
    "            fill_mean(column, country_name)\n",
    "        if column == 'Exports':\n",
    "            fill_mean(column, country_name)\n",
    "        if column == 'FemaleParticipation':\n",
    "            fill_mean(column, country_name)\n",
    "        if column == 'ForestArea':\n",
    "            fill_mean(column, country_name)\n",
    "        if column == 'GDPpercapita':\n",
    "            fill_mean(column, country_name)\n",
    "        if column == 'HealthSpendPerPerson':\n",
    "            fill_mean(column, country_name)\n",
    "        if column == 'Hightotechnologyexports':\n",
    "            fill_mean(column, country_name)\n",
    "        if column == 'Imports':\n",
    "            fill_mean(column, country_name)\n",
    "        if column == 'IncomePerPerson':\n",
    "            fill_mean(column, country_name)\n",
    "        if column == 'Infantmortality':\n",
    "            fill_mean(column, country_name)\n",
    "        if column == 'Inflation':\n",
    "            fill_mean(column, country_name)\n",
    "        if column == 'Internetusers':\n",
    "            fill_mean(column, country_name)\n",
    "        if column == 'LifeExpectancy':\n",
    "            fill_mean(column, country_name)\n",
    "        if column == 'LiteracyRateAdult':\n",
    "            fill_mean(column, country_name)\n",
    "        if column == 'LIteracyRateYouth':\n",
    "            fill_mean(column, country_name)\n",
    "        if column == 'Populationdensity':\n",
    "            fill_mean(column, country_name)\n",
    "        if column == 'ElectricityPerPerson':\n",
    "            fill_mean(column, country_name)\n",
    "        if column == 'Taxrevenue':\n",
    "            fill_mean(column, country_name)\n",
    "        if column == 'Tradebalance':\n",
    "            fill_mean(column, country_name)\n",
    "        if column == 'YearlyCO2emission':\n",
    "            fill_mean(column, country_name)\n",
    "        if column == 'Incomeshareofrichest10pct':\n",
    "            fill_mean(column, country_name)\n",
    "        if column == 'Trafficdeaths':\n",
    "            fill_mean(column, country_name)\n",
    "        if column == 'Urbanpopulationgrowth':\n",
    "            fill_min(column, country_name)\n",
    "            \n",
    "    # Deleting variables from memory created above by locals() iside the loop\n",
    "    del locals()[country_name]"
   ]
  },
  {
   "cell_type": "code",
   "execution_count": 9,
   "metadata": {},
   "outputs": [],
   "source": [
    "# Converting list of country wise filled and cleaned dataframe into single dataframe\n",
    "filled_frame = pd.concat(country_wise_data)\n",
    "# Sorting dataframe from countrywise to index based\n",
    "filled_frame.sort_index(inplace=True)\n",
    "# Filling all columns still missing value with zero\n",
    "filled_frame.fillna(0, inplace=True)"
   ]
  },
  {
   "cell_type": "code",
   "execution_count": 10,
   "metadata": {},
   "outputs": [],
   "source": [
    "# filled_frame.to_csv('../csv_files/cleaned_gapminder.csv', index=False)"
   ]
  }
 ],
 "metadata": {
  "kernelspec": {
   "display_name": "Python 3",
   "language": "python",
   "name": "python3"
  },
  "language_info": {
   "codemirror_mode": {
    "name": "ipython",
    "version": 3
   },
   "file_extension": ".py",
   "mimetype": "text/x-python",
   "name": "python",
   "nbconvert_exporter": "python",
   "pygments_lexer": "ipython3",
   "version": "3.8.5"
  }
 },
 "nbformat": 4,
 "nbformat_minor": 4
}
